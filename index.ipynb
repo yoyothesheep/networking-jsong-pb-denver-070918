{
 "cells": [
  {
   "cell_type": "markdown",
   "metadata": {},
   "source": [
    "# Networking\n",
    "\n",
    "The peer-to-peer network that Bitcoin runs on is what gives it a lot of its robustness. 9898 nodes are running on the network as of this writing and communicate constantly.\n",
    "\n",
    "The Bitcoin network is a broadcast network or a gossip network. Every node is constantly announcing different transactions, blocks and peers that it knows about. The protocol is rich and has a lot of features that have been added to it over the years. Two things to understand first about the Bitcoin networking protocol.The nice thing about the networking protocol is that it is not consensus critical. The same data can be sent from one node to another in some other fashion and the blockchain itself would not be affected.\n",
    "\n",
    "With that in mind, let's start with the very first message that one node sends to another, the version message.\n",
    "\n",
    "### Network Messages\n",
    "\n",
    "Network messages have a particular form.\n",
    "\n",
    "The first four bytes are always the same and are referred to as the *network magic*. Magic bytes are common in network programming as the communication can be spotty and asynchronous. Magic bytes give the receiver a place to start should the communication get interrupted.\n",
    "\n",
    "The next 12 bytes define the command, or what the payload actually carries. Note that the command is meant to be human-readable and in fact this message is \"version\" in ascii with 0-byte padding.\n",
    "\n",
    "The next 4 bytes determine the length of the payload. As we saw in the transaction and block parsing sections, this is necessary as the field is of variable length. As 2^32 is about 4 billion, we can have payloads that can be as big as 4 GB. Note the number is interpreted in little-endian, so in our case here, that is 101 bytes.\n",
    "\n",
    "The next 4 bytes are the checksum. The checksum algorithm is something of an odd choice as it's the first 4 bytes of the double-sha256 of the payload. I say odd, as normally, networking protocol checksums generally are designed to have error-correcting capability and double-sha256 has none. That said, the hash function is common in the rest of the protocol and is thus used here."
   ]
  },
  {
   "cell_type": "markdown",
   "metadata": {},
   "source": [
    "![Networking Messaging Structure](./networking_messaging_structure.png)"
   ]
  },
  {
   "cell_type": "markdown",
   "metadata": {},
   "source": [
    "### Try it\n",
    "\n",
    "#### Check the [cheat sheet](https://drive.google.com/file/d/1XRby_QYBm5LvEv2rDqxJuKn_8ZsV1RHB/view) for the network message structure.\n",
    "\n",
    "#### Parse this message\n",
    "```\n",
    "f9beb4d976657261636b000000000000000000005df6e0e2\n",
    "```"
   ]
  },
  {
   "cell_type": "code",
   "execution_count": null,
   "metadata": {},
   "outputs": [],
   "source": [
    "msg = bytes.fromhex('f9beb4d976657261636b000000000000000000005df6e0e2')\n",
    "\n",
    "# first 4 are network magic\n",
    "# next 12 are command\n",
    "# next 4 are payload length\n",
    "# next 4 are checksum\n",
    "# rest is payload"
   ]
  },
  {
   "cell_type": "markdown",
   "metadata": {},
   "source": [
    "# Test Driven Exercise"
   ]
  },
  {
   "cell_type": "code",
   "execution_count": 3,
   "metadata": {},
   "outputs": [],
   "source": [
    "from io import BytesIO\n",
    "from network import NetworkEnvelope\n",
    "from helper import (\n",
    "    double_sha256,\n",
    "    int_to_little_endian,\n",
    "    little_endian_to_int\n",
    ")\n",
    "\n",
    "NETWORK_MAGIC = b'\\xf9\\xbe\\xb4\\xd9'\n",
    "\n",
    "\n",
    "class NetworkEnvelope(NetworkEnvelope):\n",
    "    \n",
    "    @classmethod\n",
    "    def parse(cls, s):\n",
    "        '''Takes a stream and creates a NetworkEnvelope'''\n",
    "        # check the network magic NETWORK_MAGIC\n",
    "        # command 12 bytes\n",
    "        # payload length 4 bytes, little endian\n",
    "        # checksum 4 bytes, first four of double-sha256 of payload\n",
    "        # payload is of length payload_length\n",
    "        # verify checksum\n",
    "        pass\n",
    "\n",
    "    def serialize(self):\n",
    "        '''Returns the byte serialization of the entire network message'''\n",
    "        # add the network magic NETWORK_MAGIC\n",
    "        # command 12 bytes\n",
    "        # payload length 4 bytes, little endian\n",
    "        # checksum 4 bytes, first four of double-sha256 of payload\n",
    "        # payload\n",
    "        pass"
   ]
  }
 ],
 "metadata": {
  "kernelspec": {
   "display_name": "Python 3",
   "language": "python",
   "name": "python3"
  },
  "language_info": {
   "codemirror_mode": {
    "name": "ipython",
    "version": 3
   },
   "file_extension": ".py",
   "mimetype": "text/x-python",
   "name": "python",
   "nbconvert_exporter": "python",
   "pygments_lexer": "ipython3",
   "version": "3.6.4"
  }
 },
 "nbformat": 4,
 "nbformat_minor": 2
}
